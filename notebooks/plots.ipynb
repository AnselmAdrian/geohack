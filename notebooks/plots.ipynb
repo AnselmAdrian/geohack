{
 "cells": [
  {
   "cell_type": "code",
   "execution_count": 190,
   "metadata": {},
   "outputs": [],
   "source": [
    "import pandas as pd\n",
    "import plotly.express as px\n",
    "\n",
    "data = pd.read_csv('prediction_dts_full2.csv')"
   ]
  },
  {
   "cell_type": "code",
   "execution_count": 191,
   "metadata": {},
   "outputs": [],
   "source": [
    "filenames = list(data['filename'].unique())\n",
    "has_dts = [s.replace('/', '_').replace(' ', '_') + '_logs.las' for s in [\n",
    "        '16/10-3', '16/10-5', '16/2-11 A', '16/2-16', '16/2-6', '16/5-3', '25/10-10', '25/11-24',\n",
    "        '25/6-3', '25/8-5 S', '31/2-19 S', '31/3-4', '32/2-1', '33/6-3 S', '34/10-35', '34/11-1',\n",
    "        '34/12-1', '34/3-1 A', '34/3-3 A', '34/4-10 R', '34/5-1 A', '34/5-1 S', '34/6-1 S', '35/11-10',\n",
    "        '35/11-11', '35/11-12', '35/11-13', '35/11-15 S', '35/11-6', '35/3-7 S', '35/4-1', '35/6-2 S',\n",
    "        '35/8-6 S', '35/9-10 S', '35/9-2', '35/9-5', '35/9-8', '7/1-2 S']]\n",
    "no_dts = [name for name in filenames if name not in has_dts]"
   ]
  },
  {
   "cell_type": "code",
   "execution_count": 192,
   "metadata": {},
   "outputs": [],
   "source": [
    "well = data[data['filename'] == filenames[0]]"
   ]
  },
  {
   "cell_type": "code",
   "execution_count": 193,
   "metadata": {},
   "outputs": [
    {
     "data": {
      "text/plain": [
       "Index(['Unnamed: 0', 'DEPT', 'BS', 'CALI', 'DEPTH_MD', 'DRHO', 'DTC', 'DTS',\n",
       "       'FORCE_2020_LITHOFACIES_CONFIDENCE', 'FORCE_2020_LITHOFACIES_LITHOLOGY',\n",
       "       'GR', 'NPHI', 'PEF', 'RDEP', 'RHOB', 'RMED', 'ROP', 'x_loc', 'y_loc',\n",
       "       'z_loc', 'filename', 'RSHA', 'RXO', 'SP', 'RMIC', 'SGR', 'ROPA', 'DCAL',\n",
       "       'MUDWEIGHT', 'field', 'GRD', 'RS', 'RD', 'TNPH', 'DTCO', 'DTSM', 'HDAR',\n",
       "       'RHOZ', 'HTNP', 'BATC', 'GRARC', 'P16H', 'P34H', 'DCAV', 'TNP', 'ECGR',\n",
       "       'ATRX', 'ATRT', 'CAL1', 'HROM', 'DTS_BOOL', 'DTS_BOOL_PRED', 'DTS_PRED',\n",
       "       'DTS_PRED_025', 'DTS_PRED_975', 'DTS_PRED_MICE', 'GR_PRED_MICE',\n",
       "       'NPHI_PRED_MICE', 'DTC_PRED_MICE', 'RHOB_PRED_MICE', 'GR_PRED_MICE_2',\n",
       "       'NPHI_PRED_MICE_2', 'DTC_PRED_MICE_2', 'RHOB_PRED_MICE_2',\n",
       "       'DTS_PRED_MICE2_LGBM', 'DTS_PRED_MICE2_LGBM_025',\n",
       "       'DTS_PRED_MICE2_LGBM_975'],\n",
       "      dtype='object')"
      ]
     },
     "execution_count": 193,
     "metadata": {},
     "output_type": "execute_result"
    }
   ],
   "source": [
    "well.columns"
   ]
  },
  {
   "cell_type": "code",
   "execution_count": 198,
   "metadata": {},
   "outputs": [],
   "source": [
    "import more_itertools\n",
    "import plotly.graph_objects as go\n",
    "test_idx =  [3, 22, 5, 33, 35, 0, 20]\n",
    "well = data[data['filename'] == has_dts[test_idx[6]]]\n",
    "filename = well['filename'].iloc[0]\n",
    "field = well['field'].iloc[0]\n",
    "# well = data[data['filename'] == no_dts[18]]\n",
    "indices = well.index[well['DTS_BOOL_PRED'].diff().fillna(False)]\n",
    "pairs = more_itertools.chunked(indices, 2)\n",
    "fig = px.scatter(well, x=['DTS', 'DTS_PRED'], y='DEPT', width=500)\n",
    "fig.update_traces(marker={'size': 2})\n",
    "############\n",
    "# Just for legend\n",
    "fig.add_trace(go.Scatter(\n",
    "    x=[250],\n",
    "    y=[1500],\n",
    "    fill='tonexty', # fill area between trace0 and trace1\n",
    "    mode='lines',\n",
    "    fillcolor='rgba(0, 255, 0, 0.2)',\n",
    "    line_width=0,\n",
    "    name='Within Train Domain'\n",
    "    ))\n",
    "for s, e in pairs:\n",
    "    fig.add_hrect(y0=well['DEPT'][s], y1=well['DEPT'][e], line_width=0, fillcolor=\"rgba(0, 255, 0, 0.2)\")\n",
    "##############\n",
    "span = 3\n",
    "fig.add_trace(go.Scatter(x=well['DTS_PRED_025'], y=well['DEPT'],\n",
    "# fig.add_trace(go.Scatter(x=well.DTS_PRED_05.ewm(span=span).mean(), y=well.DEPT,\n",
    "    fill=None,\n",
    "    mode='lines',\n",
    "    line_width=0,\n",
    "    showlegend=False,\n",
    "    ))\n",
    "fig.add_trace(go.Scatter(\n",
    "    x=well['DTS_PRED_975'],\n",
    "    # x=well.DTS_PRED95.ewm(span=span).mean(),\n",
    "    y=well['DEPT'],\n",
    "    fill='tonexty', # fill area between trace0 and trace1\n",
    "    mode='lines',\n",
    "    fillcolor='rgba(255, 0, 0, 0.2)',\n",
    "    line_width=0,\n",
    "    name='95% Pred Interval'\n",
    "    ))\n",
    "fig.update_layout(\n",
    "    yaxis = dict(autorange=\"reversed\"),\n",
    "    title=f'{filename} in {field}',\n",
    ")\n",
    "fig"
   ]
  },
  {
   "cell_type": "code",
   "execution_count": 171,
   "metadata": {},
   "outputs": [
    {
     "data": {
      "text/plain": [
       "884412    16_10-3_logs.las\n",
       "884413    16_10-3_logs.las\n",
       "884414    16_10-3_logs.las\n",
       "884415    16_10-3_logs.las\n",
       "884416    16_10-3_logs.las\n",
       "                ...       \n",
       "902355    16_10-3_logs.las\n",
       "902356    16_10-3_logs.las\n",
       "902357    16_10-3_logs.las\n",
       "902358    16_10-3_logs.las\n",
       "902359    16_10-3_logs.las\n",
       "Name: filename, Length: 17948, dtype: object"
      ]
     },
     "execution_count": 171,
     "metadata": {},
     "output_type": "execute_result"
    }
   ],
   "source": [
    "well.field"
   ]
  }
 ],
 "metadata": {
  "kernelspec": {
   "display_name": "Python 3.10.8 ('310')",
   "language": "python",
   "name": "python3"
  },
  "language_info": {
   "codemirror_mode": {
    "name": "ipython",
    "version": 3
   },
   "file_extension": ".py",
   "mimetype": "text/x-python",
   "name": "python",
   "nbconvert_exporter": "python",
   "pygments_lexer": "ipython3",
   "version": "3.10.8"
  },
  "orig_nbformat": 4,
  "vscode": {
   "interpreter": {
    "hash": "7f03054c54411070efc5ccbb8065032632f7537d7b618cb2b598ce2030077dda"
   }
  }
 },
 "nbformat": 4,
 "nbformat_minor": 2
}
