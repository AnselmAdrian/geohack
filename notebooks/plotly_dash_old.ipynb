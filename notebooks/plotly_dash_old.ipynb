{
 "cells": [
  {
   "cell_type": "markdown",
   "metadata": {},
   "source": [
    "# Library"
   ]
  },
  {
   "cell_type": "code",
   "execution_count": 2,
   "metadata": {},
   "outputs": [],
   "source": [
    "import dash\n",
    "from dash import html, dcc\n",
    "import dash_bootstrap_components as dbc\n",
    "from jupyter_dash import JupyterDash\n",
    "import pandas as pd, numpy as np\n",
    "import base64, io\n",
    "from io import BytesIO\n",
    "import dash_daq as daq\n",
    "import plotly.express as px, plotly.graph_objects as go, plotly.figure_factory as ff\n",
    "from plotly.subplots import make_subplots\n",
    "from collections import Counter\n",
    "import matplotlib.pyplot as plt\n",
    "from PIL import Image\n",
    "import more_itertools"
   ]
  },
  {
   "cell_type": "markdown",
   "metadata": {},
   "source": [
    "# Data loading"
   ]
  },
  {
   "cell_type": "code",
   "execution_count": 3,
   "metadata": {},
   "outputs": [],
   "source": [
    "df_pred = pd.read_csv(\"/home/geouser05/geo/data/07_model_output/prediction_dts_full2.csv\")\n",
    "filenames = list(df_pred['filename'].unique())\n",
    "has_dts = [s.replace('/', '_').replace(' ', '_') + '_logs.las' for s in [\n",
    "        '16/10-3', '16/10-5', '16/2-11 A', '16/2-16', '16/2-6', '16/5-3', '25/10-10', '25/11-24',\n",
    "        '25/6-3', '25/8-5 S', '31/2-19 S', '31/3-4', '32/2-1', '33/6-3 S', '34/10-35', '34/11-1',\n",
    "        '34/12-1', '34/3-1 A', '34/3-3 A', '34/4-10 R', '34/5-1 A', '34/5-1 S', '34/6-1 S', '35/11-10',\n",
    "        '35/11-11', '35/11-12', '35/11-13', '35/11-15 S', '35/11-6', '35/3-7 S', '35/4-1', '35/6-2 S',\n",
    "        '35/8-6 S', '35/9-10 S', '35/9-2', '35/9-5', '35/9-8', '7/1-2 S']]\n",
    "no_dts = [name for name in filenames if name not in has_dts]"
   ]
  },
  {
   "cell_type": "code",
   "execution_count": 4,
   "metadata": {},
   "outputs": [],
   "source": [
    "lithology_numbers = {30000: {'lith':'Sandstone', 'lith_num':1, 'hatch': '..', 'color':'#ffff00'},\n",
    "                 65030: {'lith':'Sandstone/Shale', 'lith_num':2, 'hatch':'-.', 'color':'#ffe119'},\n",
    "                 65000: {'lith':'Shale', 'lith_num':3, 'hatch':'--', 'color':'#bebebe'},\n",
    "                 80000: {'lith':'Marl', 'lith_num':4, 'hatch':'', 'color':'#7cfc00'},\n",
    "                 74000: {'lith':'Dolomite', 'lith_num':5, 'hatch':'-/', 'color':'#8080ff'},\n",
    "                 70000: {'lith':'Limestone', 'lith_num':6, 'hatch':'+', 'color':'#80ffff'},\n",
    "                 70032: {'lith':'Chalk', 'lith_num':7, 'hatch':'..', 'color':'#80ffff'},\n",
    "                 88000: {'lith':'Halite', 'lith_num':8, 'hatch':'x', 'color':'#7ddfbe'},\n",
    "                 86000: {'lith':'Anhydrite', 'lith_num':9, 'hatch':'', 'color':'#ff80ff'},\n",
    "                 99000: {'lith':'Tuff', 'lith_num':10, 'hatch':'||', 'color':'#ff8c00'},\n",
    "                 90000: {'lith':'Coal', 'lith_num':11, 'hatch':'', 'color':'black'},\n",
    "                 93000: {'lith':'Basement', 'lith_num':12, 'hatch':'-|', 'color':'#ef138a'}}\n",
    "df_lith = pd.DataFrame.from_dict(lithology_numbers, orient='index')\n",
    "df_lith.index.name = \"FORCE_2020_LITHOFACIES_LITHOLOGY\""
   ]
  },
  {
   "cell_type": "code",
   "execution_count": 5,
   "metadata": {},
   "outputs": [],
   "source": [
    "df_pred[\"lith\"] = df_pred[\"FORCE_2020_LITHOFACIES_LITHOLOGY\"].map(df_lith[\"lith\"])\n",
    "df_pred[\"lith_hatch\"] = df_pred[\"FORCE_2020_LITHOFACIES_LITHOLOGY\"].map(df_lith[\"hatch\"])\n",
    "df_pred[\"lith_color\"] = df_pred[\"FORCE_2020_LITHOFACIES_LITHOLOGY\"].map(df_lith[\"color\"])"
   ]
  },
  {
   "cell_type": "code",
   "execution_count": null,
   "metadata": {},
   "outputs": [],
   "source": [
    "list_filename = df_pred.dropna(subset= [\"x_loc\", \"y_loc\", \"z_loc\"])[\"filename\"].unique()\n",
    "df_field_plot = pd.DataFrame(columns= [\"x_loc\", \"y_loc\", \"z_loc\", \"field\", \"filename\"])\n",
    "\n",
    "for names in list_filename:\n",
    "    tmp = df_pred[df_pred.filename == names].describe().iloc[1][[\"x_loc\", \"y_loc\", \"z_loc\"]]\n",
    "    tmp[\"field\"] = df_pred[df_pred.filename == names].field.unique()[0]\n",
    "    tmp[\"filename\"] = names\n",
    "    tmp = pd.DataFrame(tmp).T.reset_index(drop= True)\n",
    "    df_field_plot = pd.concat([df_field_plot, tmp])\n",
    "\n",
    "tmp_df = df_pred.groupby('filename')['DTS'].agg({'count'}).reset_index()\n",
    "tmp_df[\"dts_available\"] = np.where(tmp_df[\"count\"] > 0, \"Available\", \"Not-available\")\n",
    "df_field_plot = df_field_plot.merge(tmp_df[[\"filename\", \"dts_available\"]], on= \"filename\", how= \"left\")\n",
    "\n",
    "df_field_plot.filename.values"
   ]
  },
  {
   "cell_type": "code",
   "execution_count": 4,
   "metadata": {},
   "outputs": [],
   "source": [
    "list_filename = df_pred.dropna(subset= [\"x_loc\", \"y_loc\", \"z_loc\"])[\"filename\"].unique()\n",
    "\n",
    "df_field_plot = pd.DataFrame(columns= [\"x_loc\", \"y_loc\", \"z_loc\", \"field\", \"filename\"])\n",
    "\n",
    "for names in list_filename:\n",
    "    tmp = df_pred[df_pred.filename == names].describe().iloc[1][[\"x_loc\", \"y_loc\", \"z_loc\"]]\n",
    "    tmp[\"field\"] = df_pred[df_pred.filename == names].field.unique()[0]\n",
    "    tmp[\"filename\"] = names\n",
    "    tmp = pd.DataFrame(tmp).T.reset_index(drop= True)\n",
    "    df_field_plot = pd.concat([df_field_plot, tmp])"
   ]
  },
  {
   "cell_type": "code",
   "execution_count": 6,
   "metadata": {},
   "outputs": [],
   "source": [
    "# Create image\n",
    "image_filename = \"/home/geouser05/geo/data/01_raw_data/team5_logo.png\"\n",
    "team5_logo = base64.b64encode(open(image_filename, 'rb').read())"
   ]
  },
  {
   "cell_type": "code",
   "execution_count": 7,
   "metadata": {},
   "outputs": [],
   "source": [
    "# To generate overview data table\n",
    "def generate_overview(field):\n",
    "  if field == 'All':\n",
    "    df = df_pred.copy()\n",
    "  else:\n",
    "    df = df_pred[df_pred['field'] == field]\n",
    "\n",
    "  firstcol = ['Well log']\n",
    "  seccol   = [df.filename.nunique()]\n",
    "  thirdcol = [Counter(df.filename).most_common(1)[0][0]]\n",
    "  dfout = pd.DataFrame({'Info': firstcol,\n",
    "                        'Count': seccol,\n",
    "                        'Max entries': thirdcol})\n",
    "  \n",
    "  return(dfout)"
   ]
  },
  {
   "cell_type": "markdown",
   "metadata": {},
   "source": [
    "# Header & Borders"
   ]
  },
  {
   "cell_type": "code",
   "execution_count": 8,
   "metadata": {},
   "outputs": [],
   "source": [
    "app = JupyterDash(__name__)\n",
    "\n",
    "app.layout = html.Div([\n",
    "\n",
    "    ##### Header #####\n",
    "    html.Div([\n",
    "        html.Img(src= 'data:image/png;base64,{}'.format(team5_logo.decode()), style= {'height':'7%', 'width':'7%', 'display': 'inline-block', 'margin-left': '10px', 'float': 'left'}),\n",
    "        html.H1('Well Inlog Fill', style= {'display': 'inline-block', 'margin-left': '15px', 'color': 'white', 'textAlign': 'center', 'width' : '80%'}),\n",
    "        ##### Night mode #####\n",
    "        html.Div([daq.ToggleSwitch(\n",
    "            id = 'night-mode',\n",
    "            label ='Night mode',\n",
    "            value = False,\n",
    "            labelPosition = 'bottom')], style= {'display': 'inline-block', 'float': 'right', 'margin-top': '5px', 'margin-right': '5px', 'color': 'white'})\n",
    "    ], style={'backgroundColor': 'rgb(46, 64, 83)', 'width': '100%'}),                     \n",
    "\n",
    "    ##### Main body #####\n",
    "    html.Div(id = 'background-selection'),\n",
    "\n",
    "    ##### End #####\n",
    "    html.H1('Developed by Team 5: Paul Yew, Agnes Lee, Hailey Thai Yuan Jiun, Anselm Adrian, Aini Mokhdhari. ACGPE GeoHackathon Nov 2022', style= {'textAlign': 'right', 'width': '100%', 'font-size': '10px', 'color': '#FFFFFF'})\n",
    "], style = {'backgroundColor' : 'rgb(46, 64, 83)'})"
   ]
  },
  {
   "cell_type": "markdown",
   "metadata": {},
   "source": [
    "### Background selection"
   ]
  },
  {
   "cell_type": "code",
   "execution_count": 9,
   "metadata": {},
   "outputs": [],
   "source": [
    "light_bg = html.Div([\n",
    "    \n",
    "    ##### Top #####              \n",
    "    html.Div([\n",
    "        html.Div([html.Label('Field selection'),], style={'font-size': '15px', 'margin-top': '30px'}),\n",
    "        dcc.Loading(\n",
    "            type = 'default',\n",
    "            children = dcc.Dropdown(\n",
    "              id='field_select',\n",
    "              options=[\"Poseidon\", \"FORCE\"],\n",
    "              value='FORCE',\n",
    "              clearable= True\n",
    "          ))], style={'width': '35%', 'margin-bottom': '5px', 'margin-left': '30px', 'margin-top' : '15px'}),\n",
    "        html.Div([\n",
    "            dcc.Loading(\n",
    "                type = 'default',\n",
    "                children = dcc.Graph(\n",
    "                    id='field_plot',\n",
    "                    clickData={'points': [{'customdata': df_pred.filename[0]}]},\n",
    "                ))], style={'width': '65%', 'height':'50%', 'display': 'inline-block', 'margin-right': '15px', 'margin-left': '15px'}),\n",
    "        html.Div([\n",
    "            dcc.Loading(\n",
    "                type = 'default',\n",
    "                children = dcc.Graph(\n",
    "                    id='data_overview'\n",
    "                ))], style= {'width': '30%', 'height':'100%', 'display': 'inline-block', 'padding': '50', 'margin-bottom': '30px', 'position': 'center'}),\n",
    "        html.Div([\n",
    "            dcc.Loading(\n",
    "                type = 'default',\n",
    "                children = dcc.Graph(\n",
    "                    id='well_log_plot',\n",
    "                ))], style={'width': '90%', 'height':'70%', 'display': 'inline-block', 'margin-right': '15px', 'margin-left': '15px'}),\n",
    "], style= {\n",
    "    'background-image': 'url(\"https://img.freepik.com/free-vector/yellow-background-with-dynamic-abstract-shapes_1393-144.jpg?w=1060&t=st=1669463501~exp=1669464101~hmac=958ff1ce5c74d4931165cd01a3509b2ea5ce4562c5333c379ba0c65aa1f4c32c\")',\n",
    "    'background-position': 'center-top',\n",
    "    'background-attachment': 'fixed',\n",
    "    'margin-top' : '20px'})\n",
    "\n",
    "\n",
    "dark_bg = html.Div([\n",
    "    ##### Top #####              \n",
    "    html.Div([\n",
    "        html.Div([html.Label('Field selection'),], style={'font-size': '15px', 'color': 'white'}),\n",
    "        dcc.Loading(\n",
    "            type = 'default',\n",
    "            children = dcc.Dropdown(\n",
    "                id='field_select',\n",
    "                options=[\"Poseidon\", \"FORCE\"],\n",
    "                value='FORCE',\n",
    "                clearable= False\n",
    "        ))], style={'width': '35%', 'margin-bottom': '5px', 'margin-left': '30px', 'margin-top' : '30px'}),\n",
    "        html.Div([\n",
    "            dcc.Loading(\n",
    "                type = 'default',\n",
    "                children = dcc.Graph(\n",
    "                    id='field_plot',\n",
    "                    clickData={'points': [{'customdata': df_pred.filename[0]}]},\n",
    "            ))], style={'width': '65%', 'height':'50%', 'display': 'inline-block', 'margin-right': '15px', 'margin-left': '15px'}),\n",
    "        html.Div([\n",
    "            dcc.Loading(\n",
    "                type = 'default',\n",
    "                children = dcc.Graph(\n",
    "                    id='data_overview'\n",
    "            ))], style= {'width': '30%', 'height':'80%', 'display': 'inline-block', 'padding': '50', 'margin-bottom': '20px', 'position': 'center'}),\n",
    "        html.Div([\n",
    "            dcc.Loading(\n",
    "                type = 'default',\n",
    "                children = dcc.Graph(\n",
    "                    id='well_log_plot',\n",
    "                ))], style={'width': '90%', 'height':'70%', 'display': 'inline-block', 'margin-right': '15px', 'margin-left': '15px'}),\n",
    "], style= {\n",
    "    'background-image': 'url(\"https://images.unsplash.com/photo-1517999144091-3d9dca6d1e43?ixlib=rb-4.0.3&ixid=MnwxMjA3fDB8MHxwaG90by1wYWdlfHx8fGVufDB8fHx8&auto=format&fit=crop&w=2127&q=80\")',\n",
    "    'background-position': 'center',\n",
    "    'background-attachment': 'fixed',\n",
    "    'margin-top' : '20px'})"
   ]
  },
  {
   "cell_type": "code",
   "execution_count": 10,
   "metadata": {},
   "outputs": [],
   "source": [
    "@app.callback(\n",
    "    dash.dependencies.Output('background-selection', 'children'),\n",
    "    [\n",
    "        dash.dependencies.Input('night-mode', 'value')\n",
    "    ]\n",
    ")\n",
    "def bg_page(selection):\n",
    "  if selection == True:\n",
    "    return(dark_bg)\n",
    "  else:\n",
    "    return(light_bg)"
   ]
  },
  {
   "cell_type": "markdown",
   "metadata": {},
   "source": [
    "# Main body- app assignment"
   ]
  },
  {
   "cell_type": "markdown",
   "metadata": {},
   "source": [
    "### Field plot"
   ]
  },
  {
   "cell_type": "code",
   "execution_count": 11,
   "metadata": {},
   "outputs": [],
   "source": [
    "# Field plot\n",
    "@app.callback(\n",
    "    dash.dependencies.Output('field_plot', 'figure'),\n",
    "    [\n",
    "      dash.dependencies.Input('field_select', 'value'),\n",
    "      dash.dependencies.Input('night-mode', 'value')\n",
    "    ]\n",
    ")\n",
    "def update_graph(field, mode):\n",
    "      df = df_field_plot[df_field_plot['field'] == field]\n",
    "      hover_names = [f\"Filename: {s}\" for s in df[\"filename\"]]\n",
    "      \n",
    "      fig = px.scatter(\n",
    "        df,\n",
    "        x= \"x_loc\", y= \"y_loc\",\n",
    "        opacity= 0.8,\n",
    "        hover_name= hover_names,\n",
    "        )\n",
    "      fig.update_traces(customdata= df.filename.values)\n",
    "      fig.update_layout(\n",
    "        coloraxis_colorbar= {'title': f'{hover_names}'},\n",
    "        legend_title_text= 'Field name',\n",
    "        height= 350, #width= 500,\n",
    "        margin= {'l': 40, 'b': 40, 't': 10, 'r': 0},\n",
    "        hovermode='closest',\n",
    "        paper_bgcolor= 'rgba(0,0,0)' if mode == False else 'rgb(46, 64, 83)',\n",
    "        plot_bgcolor=  'rgba(0,0,0)' if mode == False else 'rgb(46, 64, 83)',\n",
    "        template= 'plotly_dark' if mode == True else 'none')\n",
    "      # fig.update_xaxes(showticklabels= False, visible= True)\n",
    "      # fig.update_yaxes(showticklabels= False, visible= True)\n",
    "      return fig"
   ]
  },
  {
   "cell_type": "markdown",
   "metadata": {},
   "source": [
    "### Field data overview"
   ]
  },
  {
   "cell_type": "code",
   "execution_count": 12,
   "metadata": {},
   "outputs": [],
   "source": [
    "# Data overview\n",
    "@app.callback(\n",
    "    dash.dependencies.Output('data_overview', 'figure'),\n",
    "    [\n",
    "        dash.dependencies.Input('field_select', 'value'),\n",
    "        dash.dependencies.Input('night-mode', 'value')\n",
    "    ]\n",
    ")\n",
    "def update_data_overview(field, mode):\n",
    "  df = generate_overview(field)\n",
    "  if mode == False:\n",
    "    fig = ff.create_table(df.round(3))\n",
    "  else:\n",
    "    fig = ff.create_table(df.round(3), colorscale= [[0, '#17202A'],[.5, '#34495E'],[1, '#212F3D']], font_colors= ['#FFFFFF'])\n",
    "  return(fig)"
   ]
  },
  {
   "cell_type": "markdown",
   "metadata": {},
   "source": [
    "### Well log data visualization"
   ]
  },
  {
   "cell_type": "code",
   "execution_count": 13,
   "metadata": {},
   "outputs": [],
   "source": [
    "# Well log visualization\n",
    "imp_col_other = [\"GR\", \"RDEP\"]\n",
    "color= ['orange', 'royalblue']\n",
    "log_cols = np.arange(2,4)"
   ]
  },
  {
   "cell_type": "code",
   "execution_count": 14,
   "metadata": {},
   "outputs": [],
   "source": [
    "@app.callback(\n",
    "    dash.dependencies.Output('well_log_plot', 'figure'),\n",
    "    [\n",
    "            dash.dependencies.Input('field_plot', 'clickData'),\n",
    "    ]\n",
    ")\n",
    "def update_well_log_plot(clickData):\n",
    "    indexclick = clickData['points'][0]['customdata']\n",
    "    breakpoint()\n",
    "    print(indexclick)\n",
    "    df_click = df_pred[df_pred.filename == indexclick]\n",
    "    \n",
    "    logplot = make_subplots(rows=1, cols=5, shared_yaxes=True)\n",
    "    logplot.add_trace(go.Scatter(x = df_click[\"DTS\"], y = df_click[\"DEPT\"], name = \"DTS\"), row= 1, col = 1)\n",
    "    logplot.add_trace(go.Scatter(x = df_click[\"DTS_PRED\"], y = df_click[\"DEPT\"], name = \"DTS_PRED\"), row= 1, col = 1)\n",
    "    logplot.update_xaxes(row = 1, col= 1, title_text = \"DTS\", tickfont_size = 12, linecolor ='blue')\n",
    "\n",
    "    for i in range (len(imp_col_other)):\n",
    "        logplot.add_trace(go.Scatter(x = df_click[imp_col_other[i]], y = df_click['DEPT'], name = imp_col_other[i]), row= 1, col = log_cols[i])\n",
    "        logplot.update_xaxes(col = log_cols[i], title_text = imp_col_other[i],  linecolor = color[i])\n",
    "    \n",
    "    logplot.add_trace(go.Scatter(x = df_click[\"NPHI\"], y = df_click[\"DEPT\"], name = \"NPHI\"), row= 1, col = max(log_cols)+1)\n",
    "    logplot.add_trace(go.Scatter(x = df_click[\"RHOB\"], y = df_click[\"DEPT\"], name = \"RHOB\"), row= 1, col = max(log_cols)+1)\n",
    "    logplot.update_xaxes(col = max(log_cols) + 1, title_text = \"DENSITY\",  linecolor ='goldenrod')\n",
    "\n",
    "    return logplot\n"
   ]
  },
  {
   "cell_type": "markdown",
   "metadata": {},
   "source": [
    "# Run server"
   ]
  },
  {
   "cell_type": "code",
   "execution_count": 15,
   "metadata": {},
   "outputs": [
    {
     "name": "stdout",
     "output_type": "stream",
     "text": [
      "Dash app running on http://0.0.0.0:8000/\n",
      "Authtoken saved to configuration file: /home/geouser05/.ngrok2/ngrok.yml\n",
      " * ngrok tunnel \"http://ee71-20-205-157-51.ngrok.io\" -> \"http://127.0.0.1:8000\"\n"
     ]
    }
   ],
   "source": [
    "# app.run_server(dev_tools_hot_reload=False, dev_tools_ui=False)\n",
    "# app.run_server(mode='inline')\n",
    "app.run_server(host=\"0.0.0.0\", port=\"8000\")\n",
    "\n",
    "! ngrok authtoken 1tXEG77XpbQYZ477UNTtBlZ1BH1_74eTWMnXaHeHzLs7rvu42\n",
    "port = 8000\n",
    "public_url = ngrok.connect(port).public_url\n",
    "print(\" * ngrok tunnel \\\"{}\\\" -> \\\"http://127.0.0.1:{}\\\"\".format(public_url, port))"
   ]
  },
  {
   "cell_type": "markdown",
   "metadata": {},
   "source": [
    "# Terminate server"
   ]
  },
  {
   "cell_type": "code",
   "execution_count": null,
   "metadata": {},
   "outputs": [
    {
     "ename": "",
     "evalue": "",
     "output_type": "error",
     "traceback": [
      "\u001b[1;31mCanceled future for execute_request message before replies were done"
     ]
    },
    {
     "ename": "",
     "evalue": "",
     "output_type": "error",
     "traceback": [
      "\u001b[1;31mThe Kernel crashed while executing code in the the current cell or a previous cell. Please review the code in the cell(s) to identify a possible cause of the failure. Click <a href='https://aka.ms/vscodeJupyterKernelCrash'>here</a> for more info. View Jupyter <a href='command:jupyter.viewOutput'>log</a> for further details."
     ]
    }
   ],
   "source": [
    "# ngrok.kill()\n",
    "# import os, signal\n",
    "# os.kill(os.getpid(), signal.SIGTERM)"
   ]
  },
  {
   "cell_type": "code",
   "execution_count": null,
   "metadata": {},
   "outputs": [],
   "source": []
  }
 ],
 "metadata": {
  "kernelspec": {
   "display_name": "Python 3.10.6 ('base')",
   "language": "python",
   "name": "python3"
  },
  "language_info": {
   "codemirror_mode": {
    "name": "ipython",
    "version": 3
   },
   "file_extension": ".py",
   "mimetype": "text/x-python",
   "name": "python",
   "nbconvert_exporter": "python",
   "pygments_lexer": "ipython3",
   "version": "3.10.6"
  },
  "orig_nbformat": 4,
  "vscode": {
   "interpreter": {
    "hash": "8d596d5ab8993364f320d696c2c7970029b25049893a0eafc96bff15b9b4eac1"
   }
  }
 },
 "nbformat": 4,
 "nbformat_minor": 2
}
